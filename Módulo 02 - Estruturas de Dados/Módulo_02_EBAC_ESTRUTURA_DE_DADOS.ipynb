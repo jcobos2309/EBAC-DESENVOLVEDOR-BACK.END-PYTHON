{
  "cells": [
    {
      "cell_type": "markdown",
      "metadata": {
        "id": "KJqp9AANOCtf"
      },
      "source": [
        "<img src=\"https://raw.githubusercontent.com/andre-marcos-perez/ebac-course-utils/main/media/logo/newebac_logo_black_half.png\" alt=\"ebac-logo\">\n",
        "\n",
        "---\n",
        "\n",
        "# **Módulo 02** | Python: Estruturas de Dados\n",
        "Caderno de **Aula**<br>\n",
        "Professor [André Perez](https://www.linkedin.com/in/andremarcosperez/)\n",
        "\n",
        "---"
      ]
    },
    {
      "cell_type": "markdown",
      "metadata": {
        "id": "d9jDtUbDOE1-"
      },
      "source": [
        "# **Tópicos**\n",
        "\n",
        "<ol type=\"1\">\n",
        "  <li>Listas;</li>\n",
        "  <li>Conjuntos;</li>\n",
        "  <li>Dicionários.</li>\n",
        "</ol>"
      ]
    },
    {
      "cell_type": "markdown",
      "metadata": {
        "id": "SmoHgt-lwkpD"
      },
      "source": [
        "---"
      ]
    },
    {
      "cell_type": "markdown",
      "metadata": {
        "id": "GABI6OW8OfQ2"
      },
      "source": [
        "# **Aulas**"
      ]
    },
    {
      "cell_type": "markdown",
      "metadata": {
        "id": "muD1vxozykSC"
      },
      "source": [
        "## 1\\. Listas"
      ]
    },
    {
      "cell_type": "markdown",
      "metadata": {
        "id": "5a3_syBIP6yO"
      },
      "source": [
        "### **1.1. Motivação**"
      ]
    },
    {
      "cell_type": "markdown",
      "metadata": {
        "id": "BmXmjEay_JOP"
      },
      "source": [
        "O aplicativo do seu banco registra toda a sua movimentação financeira. O final do dia, o app consolida o saldo final para que você possa controlar sua vida financeira."
      ]
    },
    {
      "cell_type": "code",
      "execution_count": 15,
      "metadata": {
        "id": "9N1LJEm7AlyF"
      },
      "outputs": [],
      "source": [
        "dia_11_saldo_inicial = 1000"
      ]
    },
    {
      "cell_type": "code",
      "execution_count": 16,
      "metadata": {
        "id": "K_kN8YZm_5gv"
      },
      "outputs": [],
      "source": [
        "dia_11_transacao_1 = 243\n",
        "dia_11_transacao_2 = -798.58\n",
        "dia_11_transacao_3 = 427.12\n",
        "dia_11_transacao_4 = -10.91"
      ]
    },
    {
      "cell_type": "code",
      "execution_count": 17,
      "metadata": {
        "id": "oPuPUmzfAojH"
      },
      "outputs": [],
      "source": [
        "dia_11_saldo_final = dia_11_saldo_inicial + dia_11_transacao_1 + dia_11_transacao_2 + dia_11_transacao_3 + dia_11_transacao_4"
      ]
    },
    {
      "cell_type": "code",
      "execution_count": 18,
      "metadata": {
        "colab": {
          "base_uri": "https://localhost:8080/"
        },
        "id": "vIGCRWomqbsl",
        "outputId": "6308c381-9102-4397-f03c-bba0ddf3fc02"
      },
      "outputs": [
        {
          "name": "stdout",
          "output_type": "stream",
          "text": [
            "860.63\n"
          ]
        }
      ],
      "source": [
        "print(dia_11_saldo_final)"
      ]
    },
    {
      "cell_type": "markdown",
      "metadata": {
        "id": "TfDH4namA43t"
      },
      "source": [
        "Será que exista uma forma melhor de armazenar as transações diárias?"
      ]
    },
    {
      "cell_type": "markdown",
      "metadata": {
        "id": "E6D5rjlESJ1A"
      },
      "source": [
        "### **1.2. Definição**"
      ]
    },
    {
      "cell_type": "markdown",
      "metadata": {
        "id": "ajMuhMQx3bfB"
      },
      "source": [
        "Armazenam sequências mutáveis e ordenadas de valores. São do tipo `list`:\n"
      ]
    },
    {
      "cell_type": "code",
      "execution_count": 19,
      "metadata": {
        "colab": {
          "base_uri": "https://localhost:8080/"
        },
        "id": "mtCBXOvB3bfd",
        "outputId": "ca214519-cbf2-41a5-efb8-4bbde3dbfa87"
      },
      "outputs": [
        {
          "name": "stdout",
          "output_type": "stream",
          "text": [
            "['João Pedro', 'braziliandeveloper1', 'coreldraw123', 'dev.cobos@outlook.pt']\n",
            "<class 'list'>\n"
          ]
        }
      ],
      "source": [
        "usuario_web = ['João Pedro', 'braziliandeveloper1', 'coreldraw123', 'dev.cobos@outlook.pt']\n",
        "\n",
        "print(usuario_web)\n",
        "print(type(usuario_web))"
      ]
    },
    {
      "cell_type": "code",
      "execution_count": 20,
      "metadata": {
        "colab": {
          "base_uri": "https://localhost:8080/"
        },
        "id": "IDyGAYp13bfe",
        "outputId": "ae316cab-a136-4a6a-c110-a541be773593"
      },
      "outputs": [
        {
          "name": "stdout",
          "output_type": "stream",
          "text": [
            "['João Pedro', 22, 'braziliandeveloper1', 'coreldraw123', 'dev.cobos@outlook.pt', 723.15, True]\n",
            "<class 'list'>\n"
          ]
        }
      ],
      "source": [
        "idade = 22\n",
        "saldo_em_conta = 723.15\n",
        "usuario_loggedin = True\n",
        "\n",
        "usuario_web = ['João Pedro', idade, 'braziliandeveloper1', 'coreldraw123', 'dev.cobos@outlook.pt', saldo_em_conta, usuario_loggedin]\n",
        "\n",
        "print(usuario_web)\n",
        "print(type(usuario_web))"
      ]
    },
    {
      "cell_type": "markdown",
      "metadata": {
        "id": "wNkFG1qKSU9M"
      },
      "source": [
        "### **1.3. Operações**"
      ]
    },
    {
      "cell_type": "markdown",
      "metadata": {
        "id": "okUlGror3kEO"
      },
      "source": [
        "As operações da estrutura do tipo *list* são:\n",
        "\n",
        "\n",
        "*   `+` (concatenação)."
      ]
    },
    {
      "cell_type": "markdown",
      "metadata": {
        "id": "gI0uX4ba3xRt"
      },
      "source": [
        "**Exemplo**: Fabricantes de *hardware* mobile"
      ]
    },
    {
      "cell_type": "code",
      "execution_count": 21,
      "metadata": {
        "colab": {
          "base_uri": "https://localhost:8080/"
        },
        "id": "_yq5ifl536nt",
        "outputId": "3f3bb8e0-60ed-4cb8-dd9f-e2dbb04b3c99"
      },
      "outputs": [
        {
          "name": "stdout",
          "output_type": "stream",
          "text": [
            "['xiaomi', 'huawei']\n",
            "['apple', 'motorola']\n",
            "['xiaomi', 'huawei', 'apple', 'motorola']\n"
          ]
        }
      ],
      "source": [
        "fabricantes_mobile_china = ['xiaomi', 'huawei']\n",
        "fabricantes_mobile_eua = ['apple', 'motorola']\n",
        "fabricantes_mobile = fabricantes_mobile_china + fabricantes_mobile_eua\n",
        "\n",
        "print(fabricantes_mobile_china)\n",
        "print(fabricantes_mobile_eua)\n",
        "print(fabricantes_mobile)"
      ]
    },
    {
      "cell_type": "markdown",
      "metadata": {
        "id": "ND9FzyEn5kFs"
      },
      "source": [
        "Outra operação muito utilizada é a de fatiamento (*slicing*), semelhante ao de *strings*:"
      ]
    },
    {
      "cell_type": "markdown",
      "metadata": {
        "id": "Y8b_DalN5x3D"
      },
      "source": [
        "Fatiamento fixo:"
      ]
    },
    {
      "cell_type": "code",
      "execution_count": 22,
      "metadata": {
        "colab": {
          "base_uri": "https://localhost:8080/"
        },
        "id": "sDxRHUKp5wFw",
        "outputId": "4ac7e6bc-5ef0-47cf-a89c-1190c9136fe1"
      },
      "outputs": [
        {
          "name": "stdout",
          "output_type": "stream",
          "text": [
            "0: xiaomi\n",
            "-1: motorola\n"
          ]
        }
      ],
      "source": [
        "print(f'0: {fabricantes_mobile[0]}')\n",
        "print(f'-1: {fabricantes_mobile[-1]}')"
      ]
    },
    {
      "cell_type": "markdown",
      "metadata": {
        "id": "-xHG7dS16Qb4"
      },
      "source": [
        "Fatiamento por intervalo:"
      ]
    },
    {
      "cell_type": "code",
      "execution_count": 23,
      "metadata": {
        "colab": {
          "base_uri": "https://localhost:8080/"
        },
        "id": "09r1FMtN6USi",
        "outputId": "c2bc7a0d-a20e-44b0-c256-b1768911d3d3"
      },
      "outputs": [
        {
          "name": "stdout",
          "output_type": "stream",
          "text": [
            "HARDWARE CHINA: ['xiaomi', 'huawei']\n",
            "HARDWARE NORTE-AMERICANA: ['apple', 'motorola']\n"
          ]
        }
      ],
      "source": [
        "fabricantes_mobile_china = fabricantes_mobile[0:2]\n",
        "fabricantes_mobile_eua = fabricantes_mobile[2:len(fabricantes_mobile)]\n",
        "\n",
        "print(f'HARDWARE CHINA: ' + str(fabricantes_mobile_china))\n",
        "print(f'HARDWARE NORTE-AMERICANA: ' + str(fabricantes_mobile_eua))"
      ]
    },
    {
      "cell_type": "markdown",
      "metadata": {
        "id": "WH9TnU_z7hUt"
      },
      "source": [
        "Podemos adicionar elementos a uma posição específica da lista:"
      ]
    },
    {
      "cell_type": "code",
      "execution_count": 24,
      "metadata": {
        "colab": {
          "base_uri": "https://localhost:8080/"
        },
        "id": "DKYvexvX7p1_",
        "outputId": "acf2d81f-32a7-4a68-cefa-d0be6c45af56"
      },
      "outputs": [
        {
          "name": "stdout",
          "output_type": "stream",
          "text": [
            "['xiaomi', 'huawei', 'apple', 'motorola']\n"
          ]
        }
      ],
      "source": [
        "print(fabricantes_mobile)"
      ]
    },
    {
      "cell_type": "code",
      "execution_count": 25,
      "metadata": {
        "colab": {
          "base_uri": "https://localhost:8080/"
        },
        "id": "eGYIk-vX8DQs",
        "outputId": "873ee29c-9848-4a54-c92e-1476757d1072"
      },
      "outputs": [
        {
          "name": "stdout",
          "output_type": "stream",
          "text": [
            "['xiaomi', 'huawei', 'nokia', 'motorola']\n"
          ]
        }
      ],
      "source": [
        "fabricantes_mobile[2] = 'nokia' # SUBSTITUI APPLE[2] PARA \"NOKIA\"\n",
        "print(fabricantes_mobile)"
      ]
    },
    {
      "cell_type": "markdown",
      "metadata": {
        "id": "8rRaHG5K6-h3"
      },
      "source": [
        "### **1.4. Métodos**"
      ]
    },
    {
      "cell_type": "markdown",
      "metadata": {
        "id": "LoHEI8EP7KSb"
      },
      "source": [
        "São métodos nativos do Python que nos ajudam a trabalhar no dia a dia com listas."
      ]
    },
    {
      "cell_type": "code",
      "execution_count": 26,
      "metadata": {
        "colab": {
          "base_uri": "https://localhost:8080/"
        },
        "id": "O4Ke0FcG7Opv",
        "outputId": "4b380e68-c11a-444a-93e1-8b5beda813d8"
      },
      "outputs": [
        {
          "name": "stdout",
          "output_type": "stream",
          "text": [
            "[0.05, 0.07, 0.02, 0.04, 0.08]\n"
          ]
        }
      ],
      "source": [
        "juros = [0.05, 0.07, 0.02, 0.04, 0.08]\n",
        "print(juros)"
      ]
    },
    {
      "cell_type": "code",
      "execution_count": 27,
      "metadata": {
        "colab": {
          "base_uri": "https://localhost:8080/"
        },
        "id": "1PIOTSXT8uT7",
        "outputId": "6de1f19c-e4c7-45ed-eefa-288f690941f3"
      },
      "outputs": [
        {
          "name": "stdout",
          "output_type": "stream",
          "text": [
            "[0.1, 0.05, 0.07, 0.02, 0.04, 0.08]\n"
          ]
        }
      ],
      "source": [
        "# INSERIR UM ELEMENTO SEM SUBSTITUIR: list.insert(index, val)\n",
        "juros.insert(0, 0.10)\n",
        "print(juros)"
      ]
    },
    {
      "cell_type": "code",
      "execution_count": 28,
      "metadata": {
        "colab": {
          "base_uri": "https://localhost:8080/"
        },
        "id": "-MMjKRzf9Ixy",
        "outputId": "8eafdfb7-1558-46b2-cf99-b1bbe69b9d07"
      },
      "outputs": [
        {
          "name": "stdout",
          "output_type": "stream",
          "text": [
            "[0.1, 0.05, 0.07, 0.02, 0.04, 0.08, 0.09]\n"
          ]
        }
      ],
      "source": [
        "# INSERIR UM ELEMENTO NO FIM DA LISTA: list.append(val)\n",
        "juros.append(0.09)\n",
        "print(juros)"
      ]
    },
    {
      "cell_type": "code",
      "execution_count": 29,
      "metadata": {
        "colab": {
          "base_uri": "https://localhost:8080/"
        },
        "id": "PAfBwmkb9lF3",
        "outputId": "9e2e8c69-1b29-41fa-9635-0ace3d1a4265"
      },
      "outputs": [
        {
          "name": "stdout",
          "output_type": "stream",
          "text": [
            "[0.1, 0.05, 0.07, 0.02, 0.04, 0.08]\n"
          ]
        }
      ],
      "source": [
        "# REMOVER UM ELEMENTO PELO VALOR: list.remove(val)\n",
        "juros.remove(0.09)\n",
        "print(juros)"
      ]
    },
    {
      "cell_type": "code",
      "execution_count": 30,
      "metadata": {
        "colab": {
          "base_uri": "https://localhost:8080/"
        },
        "id": "E2rAo_0N9yp_",
        "outputId": "050a2a81-fd7f-4e31-fe64-6cb5f2be09ea"
      },
      "outputs": [
        {
          "name": "stdout",
          "output_type": "stream",
          "text": [
            "0.04\n"
          ]
        }
      ],
      "source": [
        "# REMOVER UM ELEMENTO PELO ÍNDICE: list.pop(val)\n",
        "remove_juros = juros.pop(4)\n",
        "print(remove_juros)"
      ]
    },
    {
      "cell_type": "code",
      "execution_count": 31,
      "metadata": {
        "colab": {
          "base_uri": "https://localhost:8080/"
        },
        "id": "cTZ-PpZjwrXh",
        "outputId": "ceb9fa2a-0052-4939-d12f-d71d795a631c"
      },
      "outputs": [
        {
          "name": "stdout",
          "output_type": "stream",
          "text": [
            "[0.1, 0.05, 0.07, 0.02, 0.08]\n"
          ]
        }
      ],
      "source": [
        "print(juros)"
      ]
    },
    {
      "cell_type": "markdown",
      "metadata": {
        "id": "NaXePKHx-J0H"
      },
      "source": [
        "### **1.5. Conversão**"
      ]
    },
    {
      "cell_type": "markdown",
      "metadata": {
        "id": "nxiiMN---dLL"
      },
      "source": [
        "Podemos converter alguns tipos de variáveis em listas, como *strings*."
      ]
    },
    {
      "cell_type": "code",
      "execution_count": 32,
      "metadata": {
        "colab": {
          "base_uri": "https://localhost:8080/"
        },
        "id": "DgZyBHJn-TWi",
        "outputId": "db1ed847-19f2-42c0-b492-ca3acf4fba60"
      },
      "outputs": [
        {
          "name": "stdout",
          "output_type": "stream",
          "text": [
            "dev.cobos@outlook.pt\n",
            "['d', 'e', 'v', '.', 'c', 'o', 'b', 'o', 's', '@', 'o', 'u', 't', 'l', 'o', 'o', 'k', '.', 'p', 't']\n"
          ]
        }
      ],
      "source": [
        "email = 'dev.cobos@outlook.pt'\n",
        "convert_email = list(email)\n",
        "\n",
        "print(email)\n",
        "print(convert_email)"
      ]
    },
    {
      "cell_type": "markdown",
      "metadata": {
        "id": "hV8sOC7uSQsy"
      },
      "source": [
        "### **1.6. Revisitando a motivação**"
      ]
    },
    {
      "cell_type": "code",
      "execution_count": 33,
      "metadata": {
        "id": "oov-ZttEBTJi"
      },
      "outputs": [],
      "source": [
        "dia_11_saldo_inicial = 1000"
      ]
    },
    {
      "cell_type": "code",
      "execution_count": 34,
      "metadata": {
        "colab": {
          "base_uri": "https://localhost:8080/"
        },
        "id": "QBK9CvnkBWAh",
        "outputId": "cd85c568-9ae9-45b5-9fb5-9ed8d485e3c0"
      },
      "outputs": [
        {
          "name": "stdout",
          "output_type": "stream",
          "text": [
            "[243, -798.58, 427.12, -10.91]\n"
          ]
        }
      ],
      "source": [
        "dia_11_transacoes = []\n",
        "\n",
        "dia_11_transacoes.append(243)\n",
        "dia_11_transacoes.append(-798.58)\n",
        "dia_11_transacoes.append(427.12)\n",
        "dia_11_transacoes.append(-10.91)\n",
        "\n",
        "print(dia_11_transacoes)"
      ]
    },
    {
      "cell_type": "code",
      "execution_count": 35,
      "metadata": {
        "colab": {
          "base_uri": "https://localhost:8080/"
        },
        "id": "3WIhTJkvBnn_",
        "outputId": "6d765cfe-05cd-4349-f822-e1fb84985613"
      },
      "outputs": [
        {
          "name": "stdout",
          "output_type": "stream",
          "text": [
            "860.63\n"
          ]
        }
      ],
      "source": [
        "dia_11_saldo_final = dia_11_saldo_inicial + dia_11_transacoes[0] + dia_11_transacoes[1] + dia_11_transacoes[2] + dia_11_transacoes[3]\n",
        "print(dia_11_saldo_final)"
      ]
    },
    {
      "cell_type": "markdown",
      "metadata": {
        "id": "4rRCvy_UURrM"
      },
      "source": [
        "## 2\\. Conjuntos"
      ]
    },
    {
      "cell_type": "markdown",
      "metadata": {
        "id": "Y1W9Hv8fURrZ"
      },
      "source": [
        "### **2.1. Motivação**"
      ]
    },
    {
      "cell_type": "markdown",
      "metadata": {
        "id": "yui33vLXavm9"
      },
      "source": [
        "Você trabalha como analista de dados de mídias sociais e precisa descobrir todas as *hashtags* que alcançaram o *top trending* do Twitter durante uma semana. Você já conseguiu as *hashtags* por dia da semana:"
      ]
    },
    {
      "cell_type": "code",
      "execution_count": 36,
      "metadata": {
        "id": "EK9_cpdLbgUR"
      },
      "outputs": [],
      "source": [
        "hashtags_seg = ['#belatriz', '#caroline', '#bbb']\n",
        "hashtags_ter = ['#tamires', '#vitoria', '#jeniffer']\n",
        "hashtags_qua = ['#grazielly', '#gabrielly', '#bbb']\n",
        "hashtags_qui = ['#rafaela', '#fernanda', '#patricia']\n",
        "hashtags_sex = ['#juliana', '#bbb', '#leticia']"
      ]
    },
    {
      "cell_type": "markdown",
      "metadata": {
        "id": "poe2mVAlcIeB"
      },
      "source": [
        "Um simples concateção de listas fará com que a *hashtag* #bbb, entre outras, apareça mais de uma vez."
      ]
    },
    {
      "cell_type": "code",
      "execution_count": 37,
      "metadata": {
        "colab": {
          "base_uri": "https://localhost:8080/"
        },
        "id": "fGIykxP8cTZ5",
        "outputId": "42edc812-4369-433e-f378-4ffbf310d32a"
      },
      "outputs": [
        {
          "name": "stdout",
          "output_type": "stream",
          "text": [
            "['#belatriz', '#caroline', '#bbb', '#tamires', '#vitoria', '#jeniffer', '#grazielly', '#gabrielly', '#bbb', '#rafaela', '#fernanda', '#patricia', '#juliana', '#bbb', '#leticia']\n"
          ]
        }
      ],
      "source": [
        "hashtags_semana = (hashtags_seg + hashtags_ter + hashtags_qua + hashtags_qui + hashtags_sex)\n",
        "print(hashtags_semana)"
      ]
    },
    {
      "cell_type": "code",
      "execution_count": 38,
      "metadata": {},
      "outputs": [
        {
          "name": "stdout",
          "output_type": "stream",
          "text": [
            "['#fernanda', '#jeniffer', '#vitoria', '#belatriz', '#patricia', '#bbb', '#leticia', '#tamires', '#gabrielly', '#rafaela', '#caroline', '#grazielly', '#juliana']\n"
          ]
        }
      ],
      "source": [
        "# POSSO DEFINIR O LIST ANTES DO SET, EVITANDO ITENS DUPLICADOS DENTRO DA LISTA: list(set(variavel))\n",
        "\n",
        "hashtags_semana = list(set(hashtags_seg + hashtags_ter + hashtags_qua + hashtags_qui + hashtags_sex))\n",
        "print(hashtags_semana)"
      ]
    },
    {
      "cell_type": "markdown",
      "metadata": {
        "id": "cOZDKbe6URrb"
      },
      "source": [
        "### **2.2. Definição**"
      ]
    },
    {
      "cell_type": "markdown",
      "metadata": {
        "id": "B9Bux1n0C2Hd"
      },
      "source": [
        "Armazenam sequências imutáveis e desordenadas valores, sem repetição. São do tipo `set`:"
      ]
    },
    {
      "cell_type": "code",
      "execution_count": 39,
      "metadata": {
        "colab": {
          "base_uri": "https://localhost:8080/"
        },
        "id": "_QL3pDMAE5oV",
        "outputId": "7c39eea8-86fe-44b1-9ad9-649ee43bcac3"
      },
      "outputs": [
        {
          "name": "stdout",
          "output_type": "stream",
          "text": [
            "{'banana', 'uva', 'abacate'}\n",
            "<class 'set'>\n"
          ]
        }
      ],
      "source": [
        "frutas = {'banana', 'abacate', 'uva', 'uva'}\n",
        "print(frutas)\n",
        "print(type(frutas))"
      ]
    },
    {
      "cell_type": "markdown",
      "metadata": {
        "id": "5q6xcwOWURrc"
      },
      "source": [
        "### **2.3. Operações**"
      ]
    },
    {
      "cell_type": "markdown",
      "metadata": {
        "id": "VjckMGhefqbI"
      },
      "source": [
        "As operações da estrutura do tipo *set* são:\n",
        "\n",
        "\n",
        "*   `-` (diferença)."
      ]
    },
    {
      "cell_type": "markdown",
      "metadata": {
        "id": "8t5unixyf2PQ"
      },
      "source": [
        "**Exemplo**: Países da europa."
      ]
    },
    {
      "cell_type": "code",
      "execution_count": 40,
      "metadata": {
        "id": "sDM_I9xff1as"
      },
      "outputs": [],
      "source": [
        "norte_europa = {'reino unido', 'suecia', 'russia', 'noruega', 'dinamarca'}\n",
        "escandinavia = {'noruega', 'dinamarca', 'suecia'}"
      ]
    },
    {
      "cell_type": "code",
      "execution_count": 41,
      "metadata": {
        "colab": {
          "base_uri": "https://localhost:8080/"
        },
        "id": "nibhXuPHgD4I",
        "outputId": "7eb7ee99-c1e2-487d-ddfd-615d56604b87"
      },
      "outputs": [
        {
          "name": "stdout",
          "output_type": "stream",
          "text": [
            "{'reino unido', 'russia'}\n"
          ]
        }
      ],
      "source": [
        "norte_europa_nao_escandivano = norte_europa - escandinavia\n",
        "print(norte_europa_nao_escandivano)"
      ]
    },
    {
      "cell_type": "code",
      "execution_count": 42,
      "metadata": {
        "colab": {
          "base_uri": "https://localhost:8080/"
        },
        "id": "UjsDawmDgoVD",
        "outputId": "d3f8ae2b-aa47-4747-ebc5-34c29f063571"
      },
      "outputs": [
        {
          "name": "stdout",
          "output_type": "stream",
          "text": [
            "set()\n"
          ]
        }
      ],
      "source": [
        "escandivano_nao_norte_europa = escandinavia - norte_europa\n",
        "print(escandivano_nao_norte_europa)"
      ]
    },
    {
      "cell_type": "markdown",
      "metadata": {
        "id": "DK2jQGirhGWS"
      },
      "source": [
        "### **2.4. Métodos**"
      ]
    },
    {
      "cell_type": "markdown",
      "metadata": {
        "id": "A6cE9_1GhGWd"
      },
      "source": [
        "São métodos nativos do Python que nos ajudam a trabalhar no dia a dia com conjuntos."
      ]
    },
    {
      "cell_type": "code",
      "execution_count": 43,
      "metadata": {
        "colab": {
          "base_uri": "https://localhost:8080/"
        },
        "id": "IW0jfAUmhGWd",
        "outputId": "0efdc760-9b91-4946-bf6d-89b921cd0e51"
      },
      "outputs": [
        {
          "name": "stdout",
          "output_type": "stream",
          "text": [
            "{'Biológicas', 'Exatas', 'Humanas'}\n"
          ]
        }
      ],
      "source": [
        "cursos = {'Exatas', 'Humanas', 'Biológicas'}\n",
        "print(cursos)"
      ]
    },
    {
      "cell_type": "code",
      "execution_count": 44,
      "metadata": {
        "colab": {
          "base_uri": "https://localhost:8080/"
        },
        "id": "hJDBambLhGWe",
        "outputId": "b07aef5e-6ac7-4aa5-989d-6e65e903c49d"
      },
      "outputs": [
        {
          "name": "stdout",
          "output_type": "stream",
          "text": [
            "{'Biológicas', 'Saúde', 'Exatas', 'Humanas'}\n"
          ]
        }
      ],
      "source": [
        "# INSERIR UM ELEMENTO NO CONJUNTO: set.add(val)\n",
        "cursos.add('Saúde')\n",
        "print(cursos)"
      ]
    },
    {
      "cell_type": "code",
      "execution_count": 45,
      "metadata": {
        "colab": {
          "base_uri": "https://localhost:8080/"
        },
        "id": "2PW8RfTyhGWe",
        "outputId": "e51fd4e3-69c0-4f94-d7c1-e788d0f9dd05"
      },
      "outputs": [
        {
          "name": "stdout",
          "output_type": "stream",
          "text": [
            "{'Biológicas', 'Exatas', 'Humanas'}\n"
          ]
        }
      ],
      "source": [
        "# REMOVER UM ELEMENTO NO CONJUNTO: set.remove(val)\n",
        "cursos.remove('Saúde')\n",
        "print(cursos)"
      ]
    },
    {
      "cell_type": "markdown",
      "metadata": {
        "id": "lR8W6YlthGWe"
      },
      "source": [
        "### **2.5. Conversão**"
      ]
    },
    {
      "cell_type": "markdown",
      "metadata": {
        "id": "FcIR2JcbhGWe"
      },
      "source": [
        "Podemos converter conjuntos para lista e vice e versa."
      ]
    },
    {
      "cell_type": "code",
      "execution_count": 46,
      "metadata": {
        "colab": {
          "base_uri": "https://localhost:8080/"
        },
        "id": "XZU1XQZbhGWf",
        "outputId": "f0aa22d1-9cac-4d92-a505-e1ca45558867"
      },
      "outputs": [
        {
          "name": "stdout",
          "output_type": "stream",
          "text": [
            "['Santos', 'São Paulo', 'Corinthians', 'Palmeiras']\n",
            "{'Santos', 'São Paulo', 'Corinthians', 'Palmeiras'}\n"
          ]
        }
      ],
      "source": [
        "times_paulistas = {'São Paulo', 'Corinthians', 'Santos', 'Palmeiras'}\n",
        "print(list(times_paulistas)) # LISTA PARA SER ALTERADA\n",
        "print(set(times_paulistas)) # TUPLA NÃO PODE SER ALTERADA"
      ]
    },
    {
      "cell_type": "markdown",
      "metadata": {
        "id": "ELgoMRAAUSjv"
      },
      "source": [
        "## 3\\. Dicionários"
      ]
    },
    {
      "cell_type": "markdown",
      "metadata": {
        "id": "CuLkQY76USjw"
      },
      "source": [
        "### **3.1. Motivação**"
      ]
    },
    {
      "cell_type": "markdown",
      "metadata": {
        "id": "K5Wnzl1UdShI"
      },
      "source": [
        "Para se conectar a uma rede wi-fi, você precisa de duas informações: o nome da rede e a senha de acesso. Quando você vai acessar uma nova rede, você encontra uma lista de redes disponíveis:"
      ]
    },
    {
      "cell_type": "code",
      "execution_count": 47,
      "metadata": {
        "colab": {
          "base_uri": "https://localhost:8080/"
        },
        "id": "Ah1dmE4Qdv-A",
        "outputId": "37775f6b-4469-4ebc-9dd1-c989173c2039"
      },
      "outputs": [
        {
          "name": "stdout",
          "output_type": "stream",
          "text": [
            "WI-FI DISPONÍVEL: [{'nome': 'MARIA JOSÉ', 'senha': 'pokasideias'}]\n"
          ]
        }
      ],
      "source": [
        "wifi_disponiveis = []\n",
        "rede = {'nome': 'MARIA JOSÉ',\n",
        "        'senha': 'pokasideias'}\n",
        "\n",
        "wifi_disponiveis.append(rede)\n",
        "print(f'WI-FI DISPONÍVEL: {wifi_disponiveis}')"
      ]
    },
    {
      "cell_type": "markdown",
      "metadata": {
        "id": "auR4rPNAeCgO"
      },
      "source": [
        "Você consegue identificar quais são os nome de redes e suas respectivas senhas? Talvez uma `list` não seja a melhor opção para armazenar esse tipo de dado."
      ]
    },
    {
      "cell_type": "markdown",
      "metadata": {
        "id": "JENLdmHkUSjx"
      },
      "source": [
        "### **3.2. Definição**"
      ]
    },
    {
      "cell_type": "markdown",
      "metadata": {
        "id": "U3lwWzl38zuT"
      },
      "source": [
        "Armazenam sequências no formato chave-valor. São do tipo `dict`.\n"
      ]
    },
    {
      "cell_type": "code",
      "execution_count": 48,
      "metadata": {
        "colab": {
          "base_uri": "https://localhost:8080/"
        },
        "id": "OUR6zdcni2jS",
        "outputId": "67d5b027-51b2-4d16-a83b-3ff46c4f7791"
      },
      "outputs": [
        {
          "name": "stdout",
          "output_type": "stream",
          "text": [
            "{'capital': 'Brasília', 'idioma': 'Português', 'população': 2309}\n",
            "<class 'dict'>\n"
          ]
        }
      ],
      "source": [
        "brasil = {'capital': 'Brasília', 'idioma': 'Português', 'população': 2309}\n",
        "print(brasil)\n",
        "print(type(brasil))"
      ]
    },
    {
      "cell_type": "markdown",
      "metadata": {
        "id": "cPj56yhmIJg4"
      },
      "source": [
        "Não é permite chaves duplicadas."
      ]
    },
    {
      "cell_type": "code",
      "execution_count": 49,
      "metadata": {
        "colab": {
          "base_uri": "https://localhost:8080/"
        },
        "id": "5a8o-NP4ITnd",
        "outputId": "80401c69-2799-40f0-e7b0-1c9295ab9f8f"
      },
      "outputs": [
        {
          "name": "stdout",
          "output_type": "stream",
          "text": [
            "{'marca': 'Volkswagen', 'modelo': 'Tiguan', 'ano': 2021}\n"
          ]
        }
      ],
      "source": [
        "carro = {\n",
        "    'marca': 'Volkswagen',\n",
        "    'modelo': 'Tiguan',\n",
        "    'ano': 2022,\n",
        "    'ano': 2021\n",
        "}\n",
        "\n",
        "print(carro)"
      ]
    },
    {
      "cell_type": "markdown",
      "metadata": {
        "id": "0tE9-pPrOIxH"
      },
      "source": [
        "Podemos criar dicionários compostos:"
      ]
    },
    {
      "cell_type": "code",
      "execution_count": 50,
      "metadata": {
        "id": "bTeSsI9FOO4h"
      },
      "outputs": [],
      "source": [
        "cadastro = {\n",
        "    'joao': {\n",
        "        'nome': 'Joao Carlos',\n",
        "        'ano_nascimento': 1959,\n",
        "        'pais': {\n",
        "            'pai': {\n",
        "                'nome': 'Joao Baptista',\n",
        "                'ano_nascimento': 1930,\n",
        "            },\n",
        "            'mae': {\n",
        "                'nome': 'Maria Cobos',\n",
        "                'ano_nascimento': 1941,\n",
        "            },\n",
        "            'irmao':  {\n",
        "                'nome': 'Michel Baptista Cobos',\n",
        "                'ano_nascimento': 1977,\n",
        "            },\n",
        "        }\n",
        "    }\n",
        "}\n",
        "\n",
        "\n",
        "cadastro = cadastro['joao']['pais']['irmao']['ano_nascimento'] # CONSULTAS ATRAVÉS DE CHAVE"
      ]
    },
    {
      "cell_type": "code",
      "execution_count": 51,
      "metadata": {
        "colab": {
          "base_uri": "https://localhost:8080/"
        },
        "id": "hzJjKGtZ-DmB",
        "outputId": "a10d7371-5e23-4b57-89e7-71a7d402d08b"
      },
      "outputs": [
        {
          "name": "stdout",
          "output_type": "stream",
          "text": [
            "ANO DE NASCIMENTO IRMÃO(A): 1977\n"
          ]
        }
      ],
      "source": [
        "print(f'ANO DE NASCIMENTO IRMÃO(A): {cadastro}')"
      ]
    },
    {
      "cell_type": "markdown",
      "metadata": {
        "id": "qcHSzY6kUSjy"
      },
      "source": [
        "### **3.3. Operações**"
      ]
    },
    {
      "cell_type": "code",
      "execution_count": 52,
      "metadata": {
        "id": "XmfvRWVTKZLn"
      },
      "outputs": [],
      "source": [
        "credito = {'063.573.798-26': 540, '278.836.058-34': 889}"
      ]
    },
    {
      "cell_type": "markdown",
      "metadata": {
        "id": "RVwYx41eI6BT"
      },
      "source": [
        "Elementos são acessados pela sua chave."
      ]
    },
    {
      "cell_type": "code",
      "execution_count": 53,
      "metadata": {
        "colab": {
          "base_uri": "https://localhost:8080/"
        },
        "id": "A05RBP9QKsgh",
        "outputId": "6ed688b3-9065-4498-d387-b29543941494"
      },
      "outputs": [
        {
          "name": "stdout",
          "output_type": "stream",
          "text": [
            "CPF 1: 540\n",
            "CPF 2: 889\n"
          ]
        }
      ],
      "source": [
        "score_1 = credito['063.573.798-26']\n",
        "score_2 = credito['278.836.058-34']\n",
        "\n",
        "print(f'CPF 1: {score_1}')\n",
        "print(f'CPF 2: {score_2}')"
      ]
    },
    {
      "cell_type": "markdown",
      "metadata": {
        "id": "OZYYChDVLEQm"
      },
      "source": [
        "Elementos são atualizados pela sua chave."
      ]
    },
    {
      "cell_type": "code",
      "execution_count": 54,
      "metadata": {
        "colab": {
          "base_uri": "https://localhost:8080/"
        },
        "id": "crkXt8TzLfp2",
        "outputId": "7eaca8b5-13c9-4ca7-e41f-e60075f8275f"
      },
      "outputs": [
        {
          "name": "stdout",
          "output_type": "stream",
          "text": [
            "{'063.573.798-26': 990, '278.836.058-34': 889}\n"
          ]
        }
      ],
      "source": [
        "credito['063.573.798-26'] = 990\n",
        "print(credito)"
      ]
    },
    {
      "cell_type": "markdown",
      "metadata": {
        "id": "pE_a-ii5L82k"
      },
      "source": [
        "Para adicionar um novo elemento, basta criar um novo elemento chave-valor:"
      ]
    },
    {
      "cell_type": "code",
      "execution_count": 55,
      "metadata": {
        "colab": {
          "base_uri": "https://localhost:8080/"
        },
        "id": "Dq0mM6URMAe-",
        "outputId": "cc584aed-cbef-4cb3-d70a-a59bd50c8b45"
      },
      "outputs": [
        {
          "name": "stdout",
          "output_type": "stream",
          "text": [
            "{'063.573.798-26': 990, '278.836.058-34': 889, '349.349.369-84': 1000}\n"
          ]
        }
      ],
      "source": [
        "credito['349.349.369-84'] = 1000\n",
        "print(credito)"
      ]
    },
    {
      "cell_type": "markdown",
      "metadata": {
        "id": "UCUO_UdUJPI8"
      },
      "source": [
        "### **3.4. Métodos**"
      ]
    },
    {
      "cell_type": "markdown",
      "metadata": {
        "id": "cncT52BYJVeD"
      },
      "source": [
        "São métodos nativos do Python que nos ajudam a trabalhar no dia a dia com dicionários."
      ]
    },
    {
      "cell_type": "code",
      "execution_count": 56,
      "metadata": {
        "id": "qwxwzPsTJcXn"
      },
      "outputs": [],
      "source": [
        "artigo = dict(\n",
        "    titulo = 'Modulo 02 | Python: Estrutura de dados',\n",
        "    corpo = 'Topicos, Aulas, Listas, Conjuntos, Dicionários, ...',\n",
        "    total_caracteres = 1530\n",
        ")"
      ]
    },
    {
      "cell_type": "code",
      "execution_count": 57,
      "metadata": {
        "colab": {
          "base_uri": "https://localhost:8080/"
        },
        "id": "QZJ4D_eRNyc_",
        "outputId": "e960c4d4-be8b-4329-8aac-765fcebdb2f2"
      },
      "outputs": [
        {
          "name": "stdout",
          "output_type": "stream",
          "text": [
            "{'titulo': 'Modulo 02 | Python: Estrutura de dados', 'corpo': 'Topicos, Aulas, Listas, Conjuntos, Dicionários, ...', 'total_caracteres': 1701}\n"
          ]
        }
      ],
      "source": [
        "# ADICIONAR / ATUALIZAR UM ELEMENTO PELO CHAVE-VALOR: dict.update(dict)\n",
        "artigo.update({'total_caracteres': 1701})\n",
        "print(artigo)"
      ]
    },
    {
      "cell_type": "code",
      "execution_count": 58,
      "metadata": {
        "colab": {
          "base_uri": "https://localhost:8080/"
        },
        "id": "ofz4lbceMx_4",
        "outputId": "cb5da499-6e8d-4e2a-b115-b302eb87309d"
      },
      "outputs": [
        {
          "name": "stdout",
          "output_type": "stream",
          "text": [
            "{'titulo': 'Modulo 02 | Python: Estrutura de dados', 'corpo': 'Topicos, Aulas, Listas, Conjuntos, Dicionários, ...'}\n"
          ]
        }
      ],
      "source": [
        "# REMOVENDO UM ELEMENTO PELO CHAVE: dict.pop(key)\n",
        "total_caracteres = artigo.pop('total_caracteres')\n",
        "print(artigo)"
      ]
    },
    {
      "cell_type": "markdown",
      "metadata": {
        "id": "h0bXPXycjfpw"
      },
      "source": [
        "### **3.5. Conversão**"
      ]
    },
    {
      "cell_type": "markdown",
      "metadata": {
        "id": "CnzLEEYOjfp2"
      },
      "source": [
        "Podemos converter as chaves e os items de um dicionário em uma lista."
      ]
    },
    {
      "cell_type": "code",
      "execution_count": 59,
      "metadata": {
        "id": "10CkP3RjkD9x"
      },
      "outputs": [],
      "source": [
        "artigo = dict(\n",
        "    titulo = 'Modulo 02 | Python: Estrutura de dados',\n",
        "    corpo = 'Topicos, Aulas, Listas, Conjuntos, Dicionários, ...',\n",
        "    total_caracteres = 1530\n",
        ")"
      ]
    },
    {
      "cell_type": "code",
      "execution_count": 60,
      "metadata": {
        "colab": {
          "base_uri": "https://localhost:8080/"
        },
        "id": "bwmEXzxnjfp3",
        "outputId": "6bcb2e18-cfad-43c5-a227-dacdc031f508"
      },
      "outputs": [
        {
          "name": "stdout",
          "output_type": "stream",
          "text": [
            "['titulo', 'corpo', 'total_caracteres']\n",
            "<class 'list'>\n"
          ]
        }
      ],
      "source": [
        "chaves = list(artigo.keys()) # EXTRAINDO AS CHAVES: \"titulo\", \"corpo\"\n",
        "\n",
        "print(chaves)\n",
        "print(type(chaves))"
      ]
    },
    {
      "cell_type": "code",
      "execution_count": 61,
      "metadata": {
        "colab": {
          "base_uri": "https://localhost:8080/"
        },
        "id": "UiP-UQxhjfp5",
        "outputId": "f9aeebe5-db6f-4850-b928-5e05a03b7fb1"
      },
      "outputs": [
        {
          "name": "stdout",
          "output_type": "stream",
          "text": [
            "['Modulo 02 | Python: Estrutura de dados', 'Topicos, Aulas, Listas, Conjuntos, Dicionários, ...', 1530]\n",
            "<class 'list'>\n"
          ]
        }
      ],
      "source": [
        "valores = list(artigo.values()) # EXTRAINDO TUDO DENTRO DA CHAVE:\n",
        "\n",
        "print(valores)\n",
        "print(type(valores))"
      ]
    },
    {
      "cell_type": "markdown",
      "metadata": {
        "id": "Nq0WCx8HUSjz"
      },
      "source": [
        "### **3.6. Revisitando a motivação**"
      ]
    },
    {
      "cell_type": "code",
      "execution_count": 62,
      "metadata": {
        "id": "AZHrKx9ZesI5"
      },
      "outputs": [],
      "source": [
        "wifi_disponiveis = []"
      ]
    },
    {
      "cell_type": "code",
      "execution_count": 63,
      "metadata": {
        "id": "4y3-5GCGeZpR"
      },
      "outputs": [],
      "source": [
        "rede = {'nome': 'rede1', 'senha': 'cnx_cnx'}\n",
        "wifi_disponiveis.append(rede)"
      ]
    },
    {
      "cell_type": "code",
      "execution_count": 64,
      "metadata": {
        "id": "CPzYATO8ev7D"
      },
      "outputs": [],
      "source": [
        "rede = {'nome': 'uai-fi', 'senha': 'r3d3'}\n",
        "wifi_disponiveis.append(rede)"
      ]
    },
    {
      "cell_type": "code",
      "execution_count": 65,
      "metadata": {
        "colab": {
          "base_uri": "https://localhost:8080/"
        },
        "id": "0YznnPL4e3H1",
        "outputId": "84ff2bc7-9105-4521-b4cc-7b61f6c5ad1d"
      },
      "outputs": [
        {
          "name": "stdout",
          "output_type": "stream",
          "text": [
            "[{'nome': 'rede1', 'senha': 'cnx_cnx'}, {'nome': 'uai-fi', 'senha': 'r3d3'}]\n"
          ]
        }
      ],
      "source": [
        "print(wifi_disponiveis)"
      ]
    }
  ],
  "metadata": {
    "colab": {
      "provenance": []
    },
    "kernelspec": {
      "display_name": "Python 3",
      "name": "python3"
    },
    "language_info": {
      "codemirror_mode": {
        "name": "ipython",
        "version": 3
      },
      "file_extension": ".py",
      "mimetype": "text/x-python",
      "name": "python",
      "nbconvert_exporter": "python",
      "pygments_lexer": "ipython3",
      "version": "3.11.7"
    }
  },
  "nbformat": 4,
  "nbformat_minor": 0
}
